{
 "cells": [
  {
   "cell_type": "markdown",
   "id": "c0777b32",
   "metadata": {},
   "source": [
    "## Once-for-All (OFA)\n",
    "\n",
    "**Ý tưởng:**  \n",
    "Huấn luyện một **supernet** duy nhất có khả năng sinh ra hàng triệu mô hình con (sub-networks) phù hợp với nhiều thiết bị khác nhau.  \n",
    "Thay vì train lại cho từng trường hợp, OFA chỉ train một lần, sau đó chọn mô hình con tối ưu theo constraint (latency, FLOPs, accuracy).\n"
   ]
  },
  {
   "cell_type": "markdown",
   "id": "29bfaf4a",
   "metadata": {},
   "source": [
    "### 1. Progressive Shrinking\n",
    "- Huấn luyện supernet với chiến lược thu nhỏ dần:\n",
    "  - Kernel size: $7 \\to 5 \\to 3$  \n",
    "  - Depth: giảm số layer  \n",
    "  - Width: giảm số kênh  \n",
    "  - Resolution: giảm kích thước input  \n",
    "- Giúp supernet bao phủ được nhiều cấu hình khác nhau.\n"
   ]
  },
  {
   "cell_type": "markdown",
   "id": "3a9511de",
   "metadata": {},
   "source": [
    "### 2. Weight Sharing\n",
    "- Mọi mô hình con đều chia sẻ trọng số từ supernet.  \n",
    "- Không cần huấn luyện lại từng mô hình con → tiết kiệm chi phí.\n"
   ]
  },
  {
   "cell_type": "markdown",
   "id": "832da391",
   "metadata": {},
   "source": [
    "### 3. Elastic Architecture\n",
    "- Supernet hỗ trợ nhiều kiến trúc co giãn:\n",
    "  - Elastic Depth  \n",
    "  - Elastic Width  \n",
    "  - Elastic Kernel Size  \n",
    "  - Elastic Resolution\n"
   ]
  },
  {
   "cell_type": "markdown",
   "id": "b4dc785f",
   "metadata": {},
   "source": [
    "### 4. Evolutionary Search with Constraints\n",
    "- Dùng giải thuật tiến hóa để tìm mô hình con tối ưu.  \n",
    "- Constraint: Latency, FLOPs, memory footprint, accuracy.  \n",
    "- Latency được đo trực tiếp trên thiết bị target.\n"
   ]
  },
  {
   "cell_type": "markdown",
   "id": "f6ef7422",
   "metadata": {},
   "source": [
    "### 5. Once-for-All Training\n",
    "- Toàn bộ supernet được huấn luyện **một lần duy nhất**.  \n",
    "- Sau đó có thể trích xuất nhanh các sub-networks phù hợp cho từng thiết bị.\n"
   ]
  },
  {
   "cell_type": "markdown",
   "id": "7dfc170c",
   "metadata": {},
   "source": [
    "### Metric\n",
    "- **Accuracy**: độ chính xác phân loại.  \n",
    "- **Latency**: độ trễ đo trên thiết bị thật.  \n",
    "- **FLOPs**: số phép toán.  \n",
    "- **Model size**: dung lượng mô hình.  \n",
    "\n"
   ]
  },
  {
   "cell_type": "markdown",
   "id": "97f6632d",
   "metadata": {},
   "source": []
  }
 ],
 "metadata": {
  "language_info": {
   "name": "python"
  }
 },
 "nbformat": 4,
 "nbformat_minor": 5
}

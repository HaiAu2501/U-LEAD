{
 "cells": [
  {
   "cell_type": "markdown",
   "id": "5febd8e2",
   "metadata": {},
   "source": [
    "# Tucker Decomposition on CIFAR-10"
   ]
  },
  {
   "cell_type": "markdown",
   "id": "74bb68be",
   "metadata": {},
   "source": [
    "## 1. Phương pháp"
   ]
  },
  {
   "cell_type": "markdown",
   "id": "11357f49",
   "metadata": {},
   "source": [
    "### Phương pháp 1:Tucker-2 Decomposition"
   ]
  },
  {
   "cell_type": "markdown",
   "id": "d1766fec",
   "metadata": {},
   "source": [
    "### Phương pháp 2:Full Tucker Decomposition"
   ]
  },
  {
   "cell_type": "markdown",
   "id": "5cc8437f",
   "metadata": {},
   "source": [
    "### Phương pháp 3:Asymmetric Tucker Decomposition"
   ]
  },
  {
   "cell_type": "markdown",
   "id": "7b7a713b",
   "metadata": {},
   "source": [
    "### Phương pháp 4:Data-driven Tucker (Adaptive Tucker)"
   ]
  }
 ],
 "metadata": {
  "language_info": {
   "name": "python"
  }
 },
 "nbformat": 4,
 "nbformat_minor": 5
}

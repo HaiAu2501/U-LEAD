{
 "cells": [
  {
   "cell_type": "markdown",
   "id": "61ac7e6b",
   "metadata": {},
   "source": [
    "# Tucker Decomposition on CIFAR-10"
   ]
  },
  {
   "cell_type": "markdown",
   "id": "0d9211c7",
   "metadata": {},
   "source": [
    "## 1. Phương pháp"
   ]
  },
  {
   "cell_type": "markdown",
   "id": "7835eb2e",
   "metadata": {},
   "source": [
    "### Phương pháp 1: Tucker-2 Decomposition"
   ]
  },
  {
   "cell_type": "markdown",
   "id": "8c63fc69",
   "metadata": {},
   "source": [
    "### Phương pháp 2: Full Tucker Decomposition"
   ]
  },
  {
   "cell_type": "markdown",
   "id": "806dfa52",
   "metadata": {},
   "source": [
    "### Phương pháp 3: Asymmetric Tucker Decomposition"
   ]
  },
  {
   "cell_type": "markdown",
   "id": "33b425cd",
   "metadata": {},
   "source": [
    "### Phương pháp 4: Data-driven Tucker (Adaptive Tucker)"
   ]
  },
  {
   "cell_type": "markdown",
   "id": "b632b08b",
   "metadata": {},
   "source": [
    "# 2. Đánh giá"
   ]
  }
 ],
 "metadata": {
  "language_info": {
   "name": "python"
  }
 },
 "nbformat": 4,
 "nbformat_minor": 5
}

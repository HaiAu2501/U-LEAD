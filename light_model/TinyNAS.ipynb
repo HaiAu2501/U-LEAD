{
 "cells": [
  {
   "cell_type": "markdown",
   "id": "b17e2b72",
   "metadata": {},
   "source": [
    "## TinyNAS\n",
    "\n",
    "**Ý tưởng:**  \n",
    "TinyNAS được thiết kế cho **thiết bị cực nhỏ (IoT, MCU)**, nơi tài nguyên phần cứng rất hạn chế.  \n",
    "Phương pháp này hướng tới một **NAS cực nhanh và hiệu quả**, với không gian kiến trúc đã được thu gọn từ trước.\n"
   ]
  },
  {
   "cell_type": "markdown",
   "id": "8359039b",
   "metadata": {},
   "source": [
    "### 1. Small Search Space\n",
    "- Không gian kiến trúc được thiết kế **rất nhỏ và tinh gọn**.  \n",
    "- Chỉ giữ lại các lựa chọn hợp lý cho môi trường tài nguyên hạn chế.  \n",
    "- Giúp NAS tìm kiếm nhanh hơn và tránh tạo mô hình quá nặng.\n"
   ]
  },
  {
   "cell_type": "markdown",
   "id": "292cdc42",
   "metadata": {},
   "source": [
    "### 2. Predictor-based Evolutionary Search\n",
    "- Dùng **predictor** để ước lượng hiệu suất mô hình thay vì phải train từng kiến trúc.  \n",
    "- Kết hợp với **evolutionary algorithm** (thuật toán tiến hóa) để khám phá nhanh trong không gian tìm kiếm.  \n",
    "- Giảm mạnh chi phí huấn luyện và thời gian tìm kiếm.\n"
   ]
  },
  {
   "cell_type": "markdown",
   "id": "d536a8b6",
   "metadata": {},
   "source": [
    "### 3. Hardware-aware Optimization\n",
    "- Tối ưu kiến trúc dựa trên constraint thực tế của thiết bị:  \n",
    "  - Latency (thời gian chạy).  \n",
    "  - Memory footprint.  \n",
    "  - Power consumption.  \n",
    "- Đảm bảo mô hình TinyNAS chạy được trên chip nhỏ mà vẫn hiệu quả.\n"
   ]
  },
  {
   "cell_type": "markdown",
   "id": "54328932",
   "metadata": {},
   "source": [
    "### 4. End-to-End Search and Deployment\n",
    "- Quá trình tìm kiếm được thiết kế **end-to-end**:  \n",
    "  - Đầu vào: không gian kiến trúc nhỏ.  \n",
    "  - Quá trình: predictor + evolutionary search.  \n",
    "  - Đầu ra: mô hình nhỏ gọn, sẵn sàng deploy lên thiết bị.  \n",
    "- Không cần bước fine-tune phức tạp.\n"
   ]
  },
  {
   "cell_type": "markdown",
   "id": "2fc2c2f2",
   "metadata": {},
   "source": [
    "### Metric\n",
    "- **Accuracy**: độ chính xác trên tập dữ liệu.  \n",
    "- **Latency**: tốc độ chạy trên thiết bị thật.  \n",
    "- **Model size**: kích thước mô hình nhỏ gọn.  \n",
    "- **Memory footprint**: mức sử dụng RAM/Flash.  \n",
    "\n"
   ]
  }
 ],
 "metadata": {
  "language_info": {
   "name": "python"
  }
 },
 "nbformat": 4,
 "nbformat_minor": 5
}

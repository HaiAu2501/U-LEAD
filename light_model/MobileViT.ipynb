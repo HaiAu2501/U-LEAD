{
 "cells": [
  {
   "cell_type": "code",
   "execution_count": 49,
   "id": "61698693-d2a8-44ec-b010-62ac584d529d",
   "metadata": {},
   "outputs": [
    {
     "name": "stdout",
     "output_type": "stream",
     "text": [
      "\n",
      "\u001b[1m[\u001b[0m\u001b[34;49mnotice\u001b[0m\u001b[1;39;49m]\u001b[0m\u001b[39;49m A new release of pip is available: \u001b[0m\u001b[31;49m24.2\u001b[0m\u001b[39;49m -> \u001b[0m\u001b[32;49m25.2\u001b[0m\n",
      "\u001b[1m[\u001b[0m\u001b[34;49mnotice\u001b[0m\u001b[1;39;49m]\u001b[0m\u001b[39;49m To update, run: \u001b[0m\u001b[32;49mpython3 -m pip install --upgrade pip\u001b[0m\n",
      "PyTorch version: 2.8.0+cu126\n",
      "Timm version: 1.0.19\n",
      "Using device: cuda\n",
      "\n",
      "✅ Tất cả các hàm đã được định nghĩa.\n"
     ]
    }
   ],
   "source": [
    "#@title Cell 1: Cài đặt toàn bộ (Thư viện, Code đã cung cấp & Hàm tiện ích)\n",
    "# --- 1. Cài đặt và Imports ---\n",
    "!pip install timm -q\n",
    "import torch\n",
    "import torch.nn as nn\n",
    "import torchvision\n",
    "import torchvision.transforms as transforms\n",
    "from torch.utils.data import DataLoader\n",
    "import timm\n",
    "import matplotlib.pyplot as plt\n",
    "import pandas as pd\n",
    "from tqdm.notebook import tqdm\n",
    "import os\n",
    "import time\n",
    "\n",
    "print(f\"PyTorch version: {torch.__version__}\")\n",
    "print(f\"Timm version: {timm.__version__}\")\n",
    "DEVICE = 'cuda' if torch.cuda.is_available() else 'cpu'\n",
    "print(f\"Using device: {DEVICE}\")\n",
    "\n",
    "# Tạo thư mục để lưu checkpoints\n",
    "os.makedirs('checkpoints', exist_ok=True)\n",
    "\n",
    "# --- 2. Các hàm tiện ích còn thiếu ---\n",
    "def calculate_accuracy(model, dataloader, device):\n",
    "    model.eval()\n",
    "    correct = 0\n",
    "    total = 0\n",
    "    with torch.no_grad():\n",
    "        for inputs, targets in dataloader:\n",
    "            inputs, targets = inputs.to(device), targets.to(device)\n",
    "            outputs = model(inputs)\n",
    "            _, predicted = outputs.max(1)\n",
    "            total += targets.size(0)\n",
    "            correct += predicted.eq(targets).sum().item()\n",
    "    return 100. * correct / total\n",
    "\n",
    "def save_checkpoint(model, optimizer, epoch, acc, path, is_best):\n",
    "    state = {'model': model.state_dict(), 'optimizer': optimizer.state_dict(), 'epoch': epoch, 'acc': acc}\n",
    "    torch.save(state, path)\n",
    "    if is_best:\n",
    "        best_path = os.path.join(os.path.dirname(path), f'best_{os.path.basename(path)}')\n",
    "        torch.save(state, best_path)\n",
    "        print(f\"🌟 New best model saved to {best_path} with accuracy {acc:.2f}%\")\n",
    "\n",
    "def evaluate_comprehensive(model, dataloader, device, model_name=\"Model\"):\n",
    "    print(f\"\\n🔬 Comprehensive Evaluation for {model_name}...\")\n",
    "    acc = calculate_accuracy(model, dataloader, device)\n",
    "    # Thêm các metric khác nếu cần (ví dụ: F1, Precision, Recall)\n",
    "    results = {'accuracy': acc}\n",
    "    print(f\"  - Accuracy: {acc:.2f}%\")\n",
    "    return results\n",
    "\n",
    "def plot_history(history, title):\n",
    "    plt.figure(figsize=(12, 5))\n",
    "    plt.subplot(1, 2, 1)\n",
    "    plt.plot(history['train_acc'], label='Train Accuracy')\n",
    "    plt.plot(history['test_acc'], label='Test Accuracy')\n",
    "    plt.title('Accuracy over Epochs')\n",
    "    plt.xlabel('Epoch')\n",
    "    plt.ylabel('Accuracy (%)')\n",
    "    plt.legend()\n",
    "    plt.grid(True)\n",
    "    \n",
    "    plt.subplot(1, 2, 2)\n",
    "    plt.plot(history['train_loss'], label='Train Loss')\n",
    "    plt.title('Loss over Epochs')\n",
    "    plt.xlabel('Epoch')\n",
    "    plt.ylabel('Loss')\n",
    "    plt.legend()\n",
    "    plt.grid(True)\n",
    "    \n",
    "    plt.suptitle(title, fontsize=16)\n",
    "    plt.tight_layout(rect=[0, 0.03, 1, 0.95])\n",
    "    plt.show()\n",
    "\n",
    "# --- 3. Dán toàn bộ code bạn đã cung cấp vào đây ---\n",
    "# (create_mobilevit_model, setup_finetuning, test_model_shapes,\n",
    "#  get_cifar10_loaders, train_model, run_full_training)\n",
    "# Cell 2: Model Creation and Finetuning Setup\n",
    "# ========================================\n",
    "def create_mobilevit_model(variant='mobilevit_xxs', num_classes=10, pretrained=True):\n",
    "    \"\"\"Create MobileViT model using timm library with ImageNet pretrained weights\"\"\"\n",
    "    try:\n",
    "        model = timm.create_model(variant, pretrained=pretrained, num_classes=num_classes)\n",
    "        print(f\"✅ Created {variant} (pretrained={pretrained}) with {sum(p.numel() for p in model.parameters()):,} parameters\")\n",
    "        return model, variant\n",
    "    except:\n",
    "        print(f\"⚠️ {variant} not available, trying alternatives...\")\n",
    "        alternatives = ['mobilenetv3_small_100', 'efficientnet_b0', 'resnet18']\n",
    "        for alt in alternatives:\n",
    "            try:\n",
    "                model = timm.create_model(alt, pretrained=pretrained, num_classes=num_classes)\n",
    "                print(f\"✅ Using {alt} as fallback (pretrained={pretrained})\")\n",
    "                return model, alt\n",
    "            except:\n",
    "                continue\n",
    "        model = timm.create_model('resnet18', pretrained=False, num_classes=num_classes)\n",
    "        print(f\"✅ Using ResNet18 without pretrain as last resort\")\n",
    "        return model, 'resnet18'\n",
    "\n",
    "def setup_finetuning(model, model_name, freeze_backbone=False):\n",
    "    \"\"\"Setup model for finetuning\"\"\"\n",
    "    if freeze_backbone:\n",
    "        print(\"🔒 Freezing backbone for feature extractor training...\")\n",
    "        for name, param in model.named_parameters():\n",
    "            if 'classifier' not in name and 'head' not in name:\n",
    "                param.requires_grad = False\n",
    "    trainable_params = sum(p.numel() for p in model.parameters() if p.requires_grad)\n",
    "    total_params = sum(p.numel() for p in model.parameters())\n",
    "    print(f\"📊 Model setup:\")\n",
    "    print(f\"   Total params: {total_params:,}\")\n",
    "    print(f\"   Trainable params: {trainable_params:,} ({100*trainable_params/total_params:.1f}%)\")\n",
    "    return model\n",
    "\n",
    "# Cell 3: Data Loading\n",
    "# ========================================\n",
    "def get_cifar10_loaders(batch_size=128, image_size=32):\n",
    "    \"\"\"Get CIFAR-10 data loaders with strong augmentation\"\"\"\n",
    "    padding = 4 if image_size == 32 else 0\n",
    "    transform_train = transforms.Compose([\n",
    "        transforms.Resize(image_size),\n",
    "        transforms.RandomCrop(image_size, padding=padding),\n",
    "        transforms.RandomHorizontalFlip(),\n",
    "        transforms.ColorJitter(0.3, 0.3, 0.3, 0.2),\n",
    "        transforms.ToTensor(),\n",
    "        transforms.Normalize((0.4914, 0.4822, 0.4465), (0.2023, 0.1994, 0.2010)),\n",
    "        transforms.RandomErasing(p=0.25)\n",
    "    ])\n",
    "    transform_test = transforms.Compose([\n",
    "        transforms.Resize(image_size),\n",
    "        transforms.ToTensor(),\n",
    "        transforms.Normalize((0.4914, 0.4822, 0.4465), (0.2023, 0.1994, 0.2010))\n",
    "    ])\n",
    "    trainset = torchvision.datasets.CIFAR10('./data', train=True, download=True, transform=transform_train)\n",
    "    testset = torchvision.datasets.CIFAR10('./data', train=False, download=True, transform=transform_test)\n",
    "    trainloader = DataLoader(trainset, batch_size=batch_size, shuffle=True, num_workers=2, pin_memory=True)\n",
    "    testloader = DataLoader(testset, batch_size=batch_size, shuffle=False, num_workers=2, pin_memory=True)\n",
    "    return trainloader, testloader\n",
    "\n",
    "# Cell 5: Enhanced Training Function for Finetuning\n",
    "def train_model(model, model_name, trainloader, testloader, device, epochs=100, lr=0.001, save_freq=20, freeze_epochs=0):\n",
    "    model = model.to(device)\n",
    "    criterion = nn.CrossEntropyLoss(label_smoothing=0.1)\n",
    "    optimizer = torch.optim.AdamW(model.parameters(), lr=lr, weight_decay=0.01)\n",
    "    scheduler = torch.optim.lr_scheduler.CosineAnnealingLR(optimizer, T_max=epochs, eta_min=lr*0.01)\n",
    "    history = {'train_acc': [], 'test_acc': [], 'train_loss': [], 'lr': []}\n",
    "    best_acc = 0\n",
    "    \n",
    "    print(f\"🚀 Finetuning {model_name} for {epochs} epochs on CIFAR-10...\")\n",
    "\n",
    "    for epoch in range(epochs):\n",
    "        if epoch < freeze_epochs:\n",
    "            model = setup_finetuning(model, model_name, freeze_backbone=True)\n",
    "        elif epoch == freeze_epochs:\n",
    "            print(f\"🔓 Unfreezing backbone at epoch {epoch+1}\")\n",
    "            model = setup_finetuning(model, model_name, freeze_backbone=False)\n",
    "            optimizer = torch.optim.AdamW(model.parameters(), lr=lr*0.1, weight_decay=0.01)\n",
    "            scheduler = torch.optim.lr_scheduler.CosineAnnealingLR(optimizer, T_max=epochs-freeze_epochs, eta_min=lr*0.001)\n",
    "\n",
    "        model.train()\n",
    "        train_loss = correct = total = 0\n",
    "        pbar = tqdm(trainloader, desc=f'Epoch {epoch+1}/{epochs} [Train]', leave=False)\n",
    "        for inputs, targets in pbar:\n",
    "            inputs, targets = inputs.to(device), targets.to(device)\n",
    "            optimizer.zero_grad()\n",
    "            outputs = model(inputs)\n",
    "            loss = criterion(outputs, targets)\n",
    "            loss.backward()\n",
    "            torch.nn.utils.clip_grad_norm_(model.parameters(), 1.0)\n",
    "            optimizer.step()\n",
    "            train_loss += loss.item()\n",
    "            _, predicted = outputs.max(1)\n",
    "            total += targets.size(0)\n",
    "            correct += predicted.eq(targets).sum().item()\n",
    "            current_lr = optimizer.param_groups[0]['lr']\n",
    "            pbar.set_postfix({'Acc': f'{100.*correct/total:.1f}%', 'LR': f'{current_lr:.1e}'})\n",
    "        \n",
    "        train_acc = 100. * correct / total\n",
    "        avg_train_loss = train_loss / len(trainloader)\n",
    "        test_acc = calculate_accuracy(model, testloader, device)\n",
    "        history['train_acc'].append(train_acc)\n",
    "        history['test_acc'].append(test_acc)\n",
    "        history['train_loss'].append(avg_train_loss)\n",
    "        history['lr'].append(current_lr)\n",
    "        \n",
    "        is_best = test_acc > best_acc\n",
    "        if is_best:\n",
    "            best_acc = test_acc\n",
    "        \n",
    "        checkpoint_path = f'checkpoints/{model_name}_epoch_{epoch+1}.pth'\n",
    "        save_checkpoint(model, optimizer, epoch + 1, test_acc, checkpoint_path, is_best)\n",
    "        scheduler.step()\n",
    "        status = \"🌟\" if is_best else \"\"\n",
    "        print(f\"Epoch {epoch+1:3d}/{epochs}: Train {train_acc:5.1f}% | Test {test_acc:5.1f}% {status}\")\n",
    "        \n",
    "    print(f\"✅ Finetuning complete! Best accuracy: {best_acc:.2f}%\")\n",
    "    return model, history, best_acc\n",
    "\n",
    "# Cell 8: Full Finetuning Pipeline\n",
    "def run_full_training(model_variant, train_loader, test_loader, epochs=10, freeze_epochs=0, pretrained=True, run_name=\"\"):\n",
    "    print(f\"\\n{'='*20} STARTING RUN: {run_name} {'='*20}\")\n",
    "    model, actual_variant = create_mobilevit_model(model_variant, pretrained=pretrained)\n",
    "    \n",
    "    model, history, best_acc = train_model(\n",
    "        model, actual_variant, train_loader, test_loader, DEVICE, \n",
    "        epochs=epochs, lr=0.001, freeze_epochs=freeze_epochs\n",
    "    )\n",
    "    print(f\"{'='*20} FINISHED RUN: {run_name} | Best Acc: {best_acc:.2f}% {'='*20}\")\n",
    "    return {'run_name': run_name, 'model': actual_variant, 'best_acc': best_acc, 'history': history}\n",
    "\n",
    "print(\"\\n✅ Tất cả các hàm đã được định nghĩa.\")"
   ]
  },
  {
   "cell_type": "markdown",
   "id": "26401ccc-64ad-47be-9766-62de3cd003be",
   "metadata": {},
   "source": [
    "## Thử nghiệm 1: Giá trị của Trọng số Tiền huấn luyện (Pretrained Weights)"
   ]
  },
  {
   "cell_type": "code",
   "execution_count": null,
   "id": "96731362-e4f5-46fd-a82e-3c9476b9df45",
   "metadata": {},
   "outputs": [],
   "source": []
  },
  {
   "cell_type": "code",
   "execution_count": 50,
   "id": "85c9aa3c-15fb-4834-81d6-5d7b61b6b7a1",
   "metadata": {},
   "outputs": [
    {
     "name": "stdout",
     "output_type": "stream",
     "text": [
      "\n",
      "==================== STARTING RUN: MobileViT_XS_Pretrained ====================\n"
     ]
    },
    {
     "data": {
      "application/vnd.jupyter.widget-view+json": {
       "model_id": "7e71c3b0937241da8cb7c59f734d15db",
       "version_major": 2,
       "version_minor": 0
      },
      "text/plain": [
       "model.safetensors:   0%|          | 0.00/9.34M [00:00<?, ?B/s]"
      ]
     },
     "metadata": {},
     "output_type": "display_data"
    },
    {
     "name": "stdout",
     "output_type": "stream",
     "text": [
      "✅ Created mobilevit_xs (pretrained=True) with 1,936,698 parameters\n",
      "🚀 Finetuning mobilevit_xs for 15 epochs on CIFAR-10...\n",
      "🔓 Unfreezing backbone at epoch 1\n",
      "📊 Model setup:\n",
      "   Total params: 1,936,698\n",
      "   Trainable params: 1,936,698 (100.0%)\n"
     ]
    },
    {
     "data": {
      "application/vnd.jupyter.widget-view+json": {
       "model_id": "59ede6f3a76441388fa2e2663853e0d4",
       "version_major": 2,
       "version_minor": 0
      },
      "text/plain": [
       "Epoch 1/15 [Train]:   0%|          | 0/391 [00:00<?, ?it/s]"
      ]
     },
     "metadata": {},
     "output_type": "display_data"
    },
    {
     "name": "stdout",
     "output_type": "stream",
     "text": [
      "🌟 New best model saved to checkpoints/best_mobilevit_xs_epoch_1.pth with accuracy 66.35%\n",
      "Epoch   1/15: Train  45.5% | Test  66.3% 🌟\n"
     ]
    },
    {
     "data": {
      "application/vnd.jupyter.widget-view+json": {
       "model_id": "ecb3fa21b06f4c8c968b24c689860371",
       "version_major": 2,
       "version_minor": 0
      },
      "text/plain": [
       "Epoch 2/15 [Train]:   0%|          | 0/391 [00:00<?, ?it/s]"
      ]
     },
     "metadata": {},
     "output_type": "display_data"
    },
    {
     "name": "stdout",
     "output_type": "stream",
     "text": [
      "🌟 New best model saved to checkpoints/best_mobilevit_xs_epoch_2.pth with accuracy 76.46%\n",
      "Epoch   2/15: Train  66.2% | Test  76.5% 🌟\n"
     ]
    },
    {
     "data": {
      "application/vnd.jupyter.widget-view+json": {
       "model_id": "1d3e461a815d4ef09d4367c89a16c596",
       "version_major": 2,
       "version_minor": 0
      },
      "text/plain": [
       "Epoch 3/15 [Train]:   0%|          | 0/391 [00:00<?, ?it/s]"
      ]
     },
     "metadata": {},
     "output_type": "display_data"
    },
    {
     "name": "stdout",
     "output_type": "stream",
     "text": [
      "🌟 New best model saved to checkpoints/best_mobilevit_xs_epoch_3.pth with accuracy 79.44%\n",
      "Epoch   3/15: Train  71.9% | Test  79.4% 🌟\n"
     ]
    },
    {
     "data": {
      "application/vnd.jupyter.widget-view+json": {
       "model_id": "85992204d4084622bd276d08495b0af1",
       "version_major": 2,
       "version_minor": 0
      },
      "text/plain": [
       "Epoch 4/15 [Train]:   0%|          | 0/391 [00:00<?, ?it/s]"
      ]
     },
     "metadata": {},
     "output_type": "display_data"
    },
    {
     "name": "stdout",
     "output_type": "stream",
     "text": [
      "🌟 New best model saved to checkpoints/best_mobilevit_xs_epoch_4.pth with accuracy 80.80%\n",
      "Epoch   4/15: Train  74.5% | Test  80.8% 🌟\n"
     ]
    },
    {
     "data": {
      "application/vnd.jupyter.widget-view+json": {
       "model_id": "7ce99598d93d421e8da3d5be1248b762",
       "version_major": 2,
       "version_minor": 0
      },
      "text/plain": [
       "Epoch 5/15 [Train]:   0%|          | 0/391 [00:00<?, ?it/s]"
      ]
     },
     "metadata": {},
     "output_type": "display_data"
    },
    {
     "name": "stdout",
     "output_type": "stream",
     "text": [
      "🌟 New best model saved to checkpoints/best_mobilevit_xs_epoch_5.pth with accuracy 82.30%\n",
      "Epoch   5/15: Train  75.9% | Test  82.3% 🌟\n"
     ]
    },
    {
     "data": {
      "application/vnd.jupyter.widget-view+json": {
       "model_id": "82a5d8efe84c486e85db1bb6b68a7c35",
       "version_major": 2,
       "version_minor": 0
      },
      "text/plain": [
       "Epoch 6/15 [Train]:   0%|          | 0/391 [00:00<?, ?it/s]"
      ]
     },
     "metadata": {},
     "output_type": "display_data"
    },
    {
     "name": "stdout",
     "output_type": "stream",
     "text": [
      "🌟 New best model saved to checkpoints/best_mobilevit_xs_epoch_6.pth with accuracy 83.00%\n",
      "Epoch   6/15: Train  77.1% | Test  83.0% 🌟\n"
     ]
    },
    {
     "data": {
      "application/vnd.jupyter.widget-view+json": {
       "model_id": "c0f58dee7c3c4e4b932262a96a2f549e",
       "version_major": 2,
       "version_minor": 0
      },
      "text/plain": [
       "Epoch 7/15 [Train]:   0%|          | 0/391 [00:00<?, ?it/s]"
      ]
     },
     "metadata": {},
     "output_type": "display_data"
    },
    {
     "name": "stdout",
     "output_type": "stream",
     "text": [
      "🌟 New best model saved to checkpoints/best_mobilevit_xs_epoch_7.pth with accuracy 83.55%\n",
      "Epoch   7/15: Train  78.1% | Test  83.5% 🌟\n"
     ]
    },
    {
     "data": {
      "application/vnd.jupyter.widget-view+json": {
       "model_id": "522b9f1237c34d848fc8f1af4a7c3c35",
       "version_major": 2,
       "version_minor": 0
      },
      "text/plain": [
       "Epoch 8/15 [Train]:   0%|          | 0/391 [00:00<?, ?it/s]"
      ]
     },
     "metadata": {},
     "output_type": "display_data"
    },
    {
     "name": "stdout",
     "output_type": "stream",
     "text": [
      "🌟 New best model saved to checkpoints/best_mobilevit_xs_epoch_8.pth with accuracy 83.61%\n",
      "Epoch   8/15: Train  78.7% | Test  83.6% 🌟\n"
     ]
    },
    {
     "data": {
      "application/vnd.jupyter.widget-view+json": {
       "model_id": "d6a28c1a7a16459f847f037cd59383b8",
       "version_major": 2,
       "version_minor": 0
      },
      "text/plain": [
       "Epoch 9/15 [Train]:   0%|          | 0/391 [00:00<?, ?it/s]"
      ]
     },
     "metadata": {},
     "output_type": "display_data"
    },
    {
     "name": "stdout",
     "output_type": "stream",
     "text": [
      "🌟 New best model saved to checkpoints/best_mobilevit_xs_epoch_9.pth with accuracy 84.22%\n",
      "Epoch   9/15: Train  79.6% | Test  84.2% 🌟\n"
     ]
    },
    {
     "data": {
      "application/vnd.jupyter.widget-view+json": {
       "model_id": "8a27dab5ec5644989a0e6ead00dfcf38",
       "version_major": 2,
       "version_minor": 0
      },
      "text/plain": [
       "Epoch 10/15 [Train]:   0%|          | 0/391 [00:00<?, ?it/s]"
      ]
     },
     "metadata": {},
     "output_type": "display_data"
    },
    {
     "name": "stdout",
     "output_type": "stream",
     "text": [
      "🌟 New best model saved to checkpoints/best_mobilevit_xs_epoch_10.pth with accuracy 84.43%\n",
      "Epoch  10/15: Train  80.1% | Test  84.4% 🌟\n"
     ]
    },
    {
     "data": {
      "application/vnd.jupyter.widget-view+json": {
       "model_id": "1767811ac28348158b7e5d5472ae2f33",
       "version_major": 2,
       "version_minor": 0
      },
      "text/plain": [
       "Epoch 11/15 [Train]:   0%|          | 0/391 [00:00<?, ?it/s]"
      ]
     },
     "metadata": {},
     "output_type": "display_data"
    },
    {
     "name": "stdout",
     "output_type": "stream",
     "text": [
      "🌟 New best model saved to checkpoints/best_mobilevit_xs_epoch_11.pth with accuracy 84.72%\n",
      "Epoch  11/15: Train  80.0% | Test  84.7% 🌟\n"
     ]
    },
    {
     "data": {
      "application/vnd.jupyter.widget-view+json": {
       "model_id": "00752fd07bf34ae9824dad052ef0ecd4",
       "version_major": 2,
       "version_minor": 0
      },
      "text/plain": [
       "Epoch 12/15 [Train]:   0%|          | 0/391 [00:00<?, ?it/s]"
      ]
     },
     "metadata": {},
     "output_type": "display_data"
    },
    {
     "name": "stdout",
     "output_type": "stream",
     "text": [
      "🌟 New best model saved to checkpoints/best_mobilevit_xs_epoch_12.pth with accuracy 84.85%\n",
      "Epoch  12/15: Train  80.6% | Test  84.8% 🌟\n"
     ]
    },
    {
     "data": {
      "application/vnd.jupyter.widget-view+json": {
       "model_id": "ef44566c4b3c4cd0991f10323dd3e990",
       "version_major": 2,
       "version_minor": 0
      },
      "text/plain": [
       "Epoch 13/15 [Train]:   0%|          | 0/391 [00:00<?, ?it/s]"
      ]
     },
     "metadata": {},
     "output_type": "display_data"
    },
    {
     "name": "stdout",
     "output_type": "stream",
     "text": [
      "🌟 New best model saved to checkpoints/best_mobilevit_xs_epoch_13.pth with accuracy 84.98%\n",
      "Epoch  13/15: Train  80.8% | Test  85.0% 🌟\n"
     ]
    },
    {
     "data": {
      "application/vnd.jupyter.widget-view+json": {
       "model_id": "0bb9d85bb43247e5b1d8272d9fd3469e",
       "version_major": 2,
       "version_minor": 0
      },
      "text/plain": [
       "Epoch 14/15 [Train]:   0%|          | 0/391 [00:00<?, ?it/s]"
      ]
     },
     "metadata": {},
     "output_type": "display_data"
    },
    {
     "name": "stdout",
     "output_type": "stream",
     "text": [
      "Epoch  14/15: Train  80.8% | Test  85.0% \n"
     ]
    },
    {
     "data": {
      "application/vnd.jupyter.widget-view+json": {
       "model_id": "6d3adf30a06a46b2a145dbe27c85b811",
       "version_major": 2,
       "version_minor": 0
      },
      "text/plain": [
       "Epoch 15/15 [Train]:   0%|          | 0/391 [00:00<?, ?it/s]"
      ]
     },
     "metadata": {},
     "output_type": "display_data"
    },
    {
     "name": "stdout",
     "output_type": "stream",
     "text": [
      "Epoch  15/15: Train  80.9% | Test  84.9% \n",
      "✅ Finetuning complete! Best accuracy: 84.98%\n",
      "==================== FINISHED RUN: MobileViT_XS_Pretrained | Best Acc: 84.98% ====================\n",
      "\n",
      "==================== STARTING RUN: MobileViT_XS_From_Scratch ====================\n",
      "✅ Created mobilevit_xs (pretrained=False) with 1,936,698 parameters\n",
      "🚀 Finetuning mobilevit_xs for 15 epochs on CIFAR-10...\n",
      "🔓 Unfreezing backbone at epoch 1\n",
      "📊 Model setup:\n",
      "   Total params: 1,936,698\n",
      "   Trainable params: 1,936,698 (100.0%)\n"
     ]
    },
    {
     "data": {
      "application/vnd.jupyter.widget-view+json": {
       "model_id": "ba27f6010e83432a8ffc9fc89276d4df",
       "version_major": 2,
       "version_minor": 0
      },
      "text/plain": [
       "Epoch 1/15 [Train]:   0%|          | 0/391 [00:00<?, ?it/s]"
      ]
     },
     "metadata": {},
     "output_type": "display_data"
    },
    {
     "name": "stdout",
     "output_type": "stream",
     "text": [
      "🌟 New best model saved to checkpoints/best_mobilevit_xs_epoch_1.pth with accuracy 32.35%\n",
      "Epoch   1/15: Train  20.1% | Test  32.4% 🌟\n"
     ]
    },
    {
     "data": {
      "application/vnd.jupyter.widget-view+json": {
       "model_id": "6bdceb3e34d9465ca367c70f7c410b87",
       "version_major": 2,
       "version_minor": 0
      },
      "text/plain": [
       "Epoch 2/15 [Train]:   0%|          | 0/391 [00:00<?, ?it/s]"
      ]
     },
     "metadata": {},
     "output_type": "display_data"
    },
    {
     "name": "stdout",
     "output_type": "stream",
     "text": [
      "🌟 New best model saved to checkpoints/best_mobilevit_xs_epoch_2.pth with accuracy 38.11%\n",
      "Epoch   2/15: Train  30.1% | Test  38.1% 🌟\n"
     ]
    },
    {
     "data": {
      "application/vnd.jupyter.widget-view+json": {
       "model_id": "80cea507bc094995bde3f54f5c1a59e6",
       "version_major": 2,
       "version_minor": 0
      },
      "text/plain": [
       "Epoch 3/15 [Train]:   0%|          | 0/391 [00:00<?, ?it/s]"
      ]
     },
     "metadata": {},
     "output_type": "display_data"
    },
    {
     "name": "stdout",
     "output_type": "stream",
     "text": [
      "🌟 New best model saved to checkpoints/best_mobilevit_xs_epoch_3.pth with accuracy 41.47%\n",
      "Epoch   3/15: Train  33.8% | Test  41.5% 🌟\n"
     ]
    },
    {
     "data": {
      "application/vnd.jupyter.widget-view+json": {
       "model_id": "4985ffdd1fe34857ba7f4f87609f6fc3",
       "version_major": 2,
       "version_minor": 0
      },
      "text/plain": [
       "Epoch 4/15 [Train]:   0%|          | 0/391 [00:00<?, ?it/s]"
      ]
     },
     "metadata": {},
     "output_type": "display_data"
    },
    {
     "name": "stdout",
     "output_type": "stream",
     "text": [
      "🌟 New best model saved to checkpoints/best_mobilevit_xs_epoch_4.pth with accuracy 44.34%\n",
      "Epoch   4/15: Train  36.5% | Test  44.3% 🌟\n"
     ]
    },
    {
     "data": {
      "application/vnd.jupyter.widget-view+json": {
       "model_id": "8441e6c728f14d52a5bf3f986bc02339",
       "version_major": 2,
       "version_minor": 0
      },
      "text/plain": [
       "Epoch 5/15 [Train]:   0%|          | 0/391 [00:00<?, ?it/s]"
      ]
     },
     "metadata": {},
     "output_type": "display_data"
    },
    {
     "name": "stdout",
     "output_type": "stream",
     "text": [
      "🌟 New best model saved to checkpoints/best_mobilevit_xs_epoch_5.pth with accuracy 45.84%\n",
      "Epoch   5/15: Train  38.4% | Test  45.8% 🌟\n"
     ]
    },
    {
     "data": {
      "application/vnd.jupyter.widget-view+json": {
       "model_id": "0f2519b67db24449ad6f08462f15a589",
       "version_major": 2,
       "version_minor": 0
      },
      "text/plain": [
       "Epoch 6/15 [Train]:   0%|          | 0/391 [00:00<?, ?it/s]"
      ]
     },
     "metadata": {},
     "output_type": "display_data"
    },
    {
     "name": "stdout",
     "output_type": "stream",
     "text": [
      "🌟 New best model saved to checkpoints/best_mobilevit_xs_epoch_6.pth with accuracy 46.35%\n",
      "Epoch   6/15: Train  39.9% | Test  46.4% 🌟\n"
     ]
    },
    {
     "data": {
      "application/vnd.jupyter.widget-view+json": {
       "model_id": "485118aabe064266b9aec8e6c27f983c",
       "version_major": 2,
       "version_minor": 0
      },
      "text/plain": [
       "Epoch 7/15 [Train]:   0%|          | 0/391 [00:00<?, ?it/s]"
      ]
     },
     "metadata": {},
     "output_type": "display_data"
    },
    {
     "name": "stdout",
     "output_type": "stream",
     "text": [
      "🌟 New best model saved to checkpoints/best_mobilevit_xs_epoch_7.pth with accuracy 49.02%\n",
      "Epoch   7/15: Train  41.2% | Test  49.0% 🌟\n"
     ]
    },
    {
     "data": {
      "application/vnd.jupyter.widget-view+json": {
       "model_id": "73597c8d530242729654b21f26f8dcd0",
       "version_major": 2,
       "version_minor": 0
      },
      "text/plain": [
       "Epoch 8/15 [Train]:   0%|          | 0/391 [00:00<?, ?it/s]"
      ]
     },
     "metadata": {},
     "output_type": "display_data"
    },
    {
     "name": "stdout",
     "output_type": "stream",
     "text": [
      "🌟 New best model saved to checkpoints/best_mobilevit_xs_epoch_8.pth with accuracy 49.04%\n",
      "Epoch   8/15: Train  42.3% | Test  49.0% 🌟\n"
     ]
    },
    {
     "data": {
      "application/vnd.jupyter.widget-view+json": {
       "model_id": "43a4ad8a5d1149d4baf5a21e7bc06d23",
       "version_major": 2,
       "version_minor": 0
      },
      "text/plain": [
       "Epoch 9/15 [Train]:   0%|          | 0/391 [00:00<?, ?it/s]"
      ]
     },
     "metadata": {},
     "output_type": "display_data"
    },
    {
     "name": "stdout",
     "output_type": "stream",
     "text": [
      "🌟 New best model saved to checkpoints/best_mobilevit_xs_epoch_9.pth with accuracy 49.97%\n",
      "Epoch   9/15: Train  43.0% | Test  50.0% 🌟\n"
     ]
    },
    {
     "data": {
      "application/vnd.jupyter.widget-view+json": {
       "model_id": "54addc04cd9341afac2973e7b3353818",
       "version_major": 2,
       "version_minor": 0
      },
      "text/plain": [
       "Epoch 10/15 [Train]:   0%|          | 0/391 [00:00<?, ?it/s]"
      ]
     },
     "metadata": {},
     "output_type": "display_data"
    },
    {
     "name": "stdout",
     "output_type": "stream",
     "text": [
      "🌟 New best model saved to checkpoints/best_mobilevit_xs_epoch_10.pth with accuracy 50.40%\n",
      "Epoch  10/15: Train  43.7% | Test  50.4% 🌟\n"
     ]
    },
    {
     "data": {
      "application/vnd.jupyter.widget-view+json": {
       "model_id": "03d0c49e80a4440291d3260d921faecb",
       "version_major": 2,
       "version_minor": 0
      },
      "text/plain": [
       "Epoch 11/15 [Train]:   0%|          | 0/391 [00:00<?, ?it/s]"
      ]
     },
     "metadata": {},
     "output_type": "display_data"
    },
    {
     "name": "stdout",
     "output_type": "stream",
     "text": [
      "🌟 New best model saved to checkpoints/best_mobilevit_xs_epoch_11.pth with accuracy 50.49%\n",
      "Epoch  11/15: Train  44.2% | Test  50.5% 🌟\n"
     ]
    },
    {
     "data": {
      "application/vnd.jupyter.widget-view+json": {
       "model_id": "420a932ee39a4698af29f338f178b7ce",
       "version_major": 2,
       "version_minor": 0
      },
      "text/plain": [
       "Epoch 12/15 [Train]:   0%|          | 0/391 [00:00<?, ?it/s]"
      ]
     },
     "metadata": {},
     "output_type": "display_data"
    },
    {
     "name": "stdout",
     "output_type": "stream",
     "text": [
      "🌟 New best model saved to checkpoints/best_mobilevit_xs_epoch_12.pth with accuracy 51.08%\n",
      "Epoch  12/15: Train  44.6% | Test  51.1% 🌟\n"
     ]
    },
    {
     "data": {
      "application/vnd.jupyter.widget-view+json": {
       "model_id": "ae195a01d74344cfb4be9564b5273d25",
       "version_major": 2,
       "version_minor": 0
      },
      "text/plain": [
       "Epoch 13/15 [Train]:   0%|          | 0/391 [00:00<?, ?it/s]"
      ]
     },
     "metadata": {},
     "output_type": "display_data"
    },
    {
     "name": "stdout",
     "output_type": "stream",
     "text": [
      "🌟 New best model saved to checkpoints/best_mobilevit_xs_epoch_13.pth with accuracy 51.72%\n",
      "Epoch  13/15: Train  44.8% | Test  51.7% 🌟\n"
     ]
    },
    {
     "data": {
      "application/vnd.jupyter.widget-view+json": {
       "model_id": "2f1cc7d017b847d196ad8554e1ba956e",
       "version_major": 2,
       "version_minor": 0
      },
      "text/plain": [
       "Epoch 14/15 [Train]:   0%|          | 0/391 [00:00<?, ?it/s]"
      ]
     },
     "metadata": {},
     "output_type": "display_data"
    },
    {
     "name": "stdout",
     "output_type": "stream",
     "text": [
      "Epoch  14/15: Train  44.9% | Test  51.6% \n"
     ]
    },
    {
     "data": {
      "application/vnd.jupyter.widget-view+json": {
       "model_id": "ff736dd65aa0408796d78e2a0822e2bf",
       "version_major": 2,
       "version_minor": 0
      },
      "text/plain": [
       "Epoch 15/15 [Train]:   0%|          | 0/391 [00:00<?, ?it/s]"
      ]
     },
     "metadata": {},
     "output_type": "display_data"
    },
    {
     "name": "stdout",
     "output_type": "stream",
     "text": [
      "Epoch  15/15: Train  45.3% | Test  51.5% \n",
      "✅ Finetuning complete! Best accuracy: 51.72%\n",
      "==================== FINISHED RUN: MobileViT_XS_From_Scratch | Best Acc: 51.72% ====================\n"
     ]
    }
   ],
   "source": [
    "#@title Cell 2: Chạy Thử nghiệm 1\n",
    "EPOCHS = 15 # Dùng số epoch nhỏ để chạy nhanh, kết quả thực tế cần nhiều hơn\n",
    "results = []\n",
    "train_loader_32, test_loader_32 = get_cifar10_loaders(image_size=32)\n",
    "\n",
    "# --- Chạy với trọng số tiền huấn luyện ---\n",
    "res_pretrained = run_full_training(\n",
    "    model_variant='mobilevit_xs',\n",
    "    train_loader=train_loader_32,\n",
    "    test_loader=test_loader_32,\n",
    "    epochs=EPOCHS,\n",
    "    pretrained=True,\n",
    "    run_name=\"MobileViT_XS_Pretrained\"\n",
    ")\n",
    "results.append(res_pretrained)\n",
    "\n",
    "# --- Chạy huấn luyện từ đầu ---\n",
    "res_scratch = run_full_training(\n",
    "    model_variant='mobilevit_xs',\n",
    "    train_loader=train_loader_32,\n",
    "    test_loader=test_loader_32,\n",
    "    epochs=EPOCHS,\n",
    "    pretrained=False,\n",
    "    run_name=\"MobileViT_XS_From_Scratch\"\n",
    ")\n",
    "results.append(res_scratch)"
   ]
  },
  {
   "cell_type": "markdown",
   "id": "8e6f4b40-5989-4172-9f44-4fe244875bf1",
   "metadata": {},
   "source": [
    "## Thử nghiệm 3: Ảnh hưởng của Độ phân giải Đầu vào"
   ]
  },
  {
   "cell_type": "code",
   "execution_count": null,
   "id": "0f93bc4f-85da-4095-8141-98bffc57a4dd",
   "metadata": {},
   "outputs": [
    {
     "name": "stdout",
     "output_type": "stream",
     "text": [
      "==> Preparing upscaled data (64x64)...\n",
      "✅ Upscaled data ready.\n",
      "\n",
      "==================== STARTING RUN: Input_Resolution_32x32 ====================\n",
      "✅ Created mobilevit_xs (pretrained=True) with 1,936,698 parameters\n",
      "🚀 Finetuning mobilevit_xs for 15 epochs on CIFAR-10...\n",
      "🔓 Unfreezing backbone at epoch 1\n",
      "📊 Model setup:\n",
      "   Total params: 1,936,698\n",
      "   Trainable params: 1,936,698 (100.0%)\n"
     ]
    },
    {
     "data": {
      "application/vnd.jupyter.widget-view+json": {
       "model_id": "8e4f80bf2cd34d44aa6eb50eb2335660",
       "version_major": 2,
       "version_minor": 0
      },
      "text/plain": [
       "Epoch 1/15 [Train]:   0%|          | 0/391 [00:00<?, ?it/s]"
      ]
     },
     "metadata": {},
     "output_type": "display_data"
    },
    {
     "name": "stdout",
     "output_type": "stream",
     "text": [
      "🌟 New best model saved to checkpoints/best_mobilevit_xs_epoch_1.pth with accuracy 68.25%\n",
      "Epoch   1/15: Train  46.3% | Test  68.2% 🌟\n"
     ]
    },
    {
     "data": {
      "application/vnd.jupyter.widget-view+json": {
       "model_id": "f7a292ad81994f9c9e7d5048d905a179",
       "version_major": 2,
       "version_minor": 0
      },
      "text/plain": [
       "Epoch 2/15 [Train]:   0%|          | 0/391 [00:00<?, ?it/s]"
      ]
     },
     "metadata": {},
     "output_type": "display_data"
    },
    {
     "name": "stdout",
     "output_type": "stream",
     "text": [
      "🌟 New best model saved to checkpoints/best_mobilevit_xs_epoch_2.pth with accuracy 77.32%\n",
      "Epoch   2/15: Train  67.9% | Test  77.3% 🌟\n"
     ]
    },
    {
     "data": {
      "application/vnd.jupyter.widget-view+json": {
       "model_id": "3664fd194ad949b1874f7129fea191cc",
       "version_major": 2,
       "version_minor": 0
      },
      "text/plain": [
       "Epoch 3/15 [Train]:   0%|          | 0/391 [00:00<?, ?it/s]"
      ]
     },
     "metadata": {},
     "output_type": "display_data"
    },
    {
     "name": "stdout",
     "output_type": "stream",
     "text": [
      "🌟 New best model saved to checkpoints/best_mobilevit_xs_epoch_3.pth with accuracy 80.02%\n",
      "Epoch   3/15: Train  72.3% | Test  80.0% 🌟\n"
     ]
    },
    {
     "data": {
      "application/vnd.jupyter.widget-view+json": {
       "model_id": "19011c48e04c4712a5b110e6085d3a93",
       "version_major": 2,
       "version_minor": 0
      },
      "text/plain": [
       "Epoch 4/15 [Train]:   0%|          | 0/391 [00:00<?, ?it/s]"
      ]
     },
     "metadata": {},
     "output_type": "display_data"
    },
    {
     "name": "stdout",
     "output_type": "stream",
     "text": [
      "🌟 New best model saved to checkpoints/best_mobilevit_xs_epoch_4.pth with accuracy 81.42%\n",
      "Epoch   4/15: Train  74.6% | Test  81.4% 🌟\n"
     ]
    },
    {
     "data": {
      "application/vnd.jupyter.widget-view+json": {
       "model_id": "032c157910b7474bac009b9772ad897f",
       "version_major": 2,
       "version_minor": 0
      },
      "text/plain": [
       "Epoch 5/15 [Train]:   0%|          | 0/391 [00:00<?, ?it/s]"
      ]
     },
     "metadata": {},
     "output_type": "display_data"
    },
    {
     "name": "stdout",
     "output_type": "stream",
     "text": [
      "🌟 New best model saved to checkpoints/best_mobilevit_xs_epoch_5.pth with accuracy 82.38%\n",
      "Epoch   5/15: Train  76.5% | Test  82.4% 🌟\n"
     ]
    },
    {
     "data": {
      "application/vnd.jupyter.widget-view+json": {
       "model_id": "bd0fc81465ab44f092d112daaa5ab9a4",
       "version_major": 2,
       "version_minor": 0
      },
      "text/plain": [
       "Epoch 6/15 [Train]:   0%|          | 0/391 [00:00<?, ?it/s]"
      ]
     },
     "metadata": {},
     "output_type": "display_data"
    },
    {
     "name": "stdout",
     "output_type": "stream",
     "text": [
      "🌟 New best model saved to checkpoints/best_mobilevit_xs_epoch_6.pth with accuracy 83.09%\n",
      "Epoch   6/15: Train  77.3% | Test  83.1% 🌟\n"
     ]
    },
    {
     "data": {
      "application/vnd.jupyter.widget-view+json": {
       "model_id": "d5e1c2349e954a5496e5b1c477d73fcb",
       "version_major": 2,
       "version_minor": 0
      },
      "text/plain": [
       "Epoch 7/15 [Train]:   0%|          | 0/391 [00:00<?, ?it/s]"
      ]
     },
     "metadata": {},
     "output_type": "display_data"
    },
    {
     "name": "stdout",
     "output_type": "stream",
     "text": [
      "🌟 New best model saved to checkpoints/best_mobilevit_xs_epoch_7.pth with accuracy 83.74%\n",
      "Epoch   7/15: Train  78.4% | Test  83.7% 🌟\n"
     ]
    },
    {
     "data": {
      "application/vnd.jupyter.widget-view+json": {
       "model_id": "bd559013879f4deab6876eb9ef01da65",
       "version_major": 2,
       "version_minor": 0
      },
      "text/plain": [
       "Epoch 8/15 [Train]:   0%|          | 0/391 [00:00<?, ?it/s]"
      ]
     },
     "metadata": {},
     "output_type": "display_data"
    },
    {
     "name": "stdout",
     "output_type": "stream",
     "text": [
      "🌟 New best model saved to checkpoints/best_mobilevit_xs_epoch_8.pth with accuracy 83.92%\n",
      "Epoch   8/15: Train  79.0% | Test  83.9% 🌟\n"
     ]
    },
    {
     "data": {
      "application/vnd.jupyter.widget-view+json": {
       "model_id": "31f4d6c751fe4c00806f0454545fd2b5",
       "version_major": 2,
       "version_minor": 0
      },
      "text/plain": [
       "Epoch 9/15 [Train]:   0%|          | 0/391 [00:00<?, ?it/s]"
      ]
     },
     "metadata": {},
     "output_type": "display_data"
    },
    {
     "name": "stdout",
     "output_type": "stream",
     "text": [
      "🌟 New best model saved to checkpoints/best_mobilevit_xs_epoch_9.pth with accuracy 84.50%\n",
      "Epoch   9/15: Train  79.4% | Test  84.5% 🌟\n"
     ]
    },
    {
     "data": {
      "application/vnd.jupyter.widget-view+json": {
       "model_id": "33693f4dd33d4c17935e7b7b09145e2a",
       "version_major": 2,
       "version_minor": 0
      },
      "text/plain": [
       "Epoch 10/15 [Train]:   0%|          | 0/391 [00:00<?, ?it/s]"
      ]
     },
     "metadata": {},
     "output_type": "display_data"
    },
    {
     "name": "stdout",
     "output_type": "stream",
     "text": [
      "🌟 New best model saved to checkpoints/best_mobilevit_xs_epoch_10.pth with accuracy 84.52%\n",
      "Epoch  10/15: Train  80.2% | Test  84.5% 🌟\n"
     ]
    },
    {
     "data": {
      "application/vnd.jupyter.widget-view+json": {
       "model_id": "1458cb5929234bdc84352d1caf46b7bc",
       "version_major": 2,
       "version_minor": 0
      },
      "text/plain": [
       "Epoch 11/15 [Train]:   0%|          | 0/391 [00:00<?, ?it/s]"
      ]
     },
     "metadata": {},
     "output_type": "display_data"
    },
    {
     "name": "stdout",
     "output_type": "stream",
     "text": [
      "🌟 New best model saved to checkpoints/best_mobilevit_xs_epoch_11.pth with accuracy 84.60%\n",
      "Epoch  11/15: Train  80.4% | Test  84.6% 🌟\n"
     ]
    },
    {
     "data": {
      "application/vnd.jupyter.widget-view+json": {
       "model_id": "4181c2e245e7422baac84245e5c8e0b7",
       "version_major": 2,
       "version_minor": 0
      },
      "text/plain": [
       "Epoch 12/15 [Train]:   0%|          | 0/391 [00:00<?, ?it/s]"
      ]
     },
     "metadata": {},
     "output_type": "display_data"
    },
    {
     "name": "stdout",
     "output_type": "stream",
     "text": [
      "🌟 New best model saved to checkpoints/best_mobilevit_xs_epoch_12.pth with accuracy 85.05%\n",
      "Epoch  12/15: Train  80.6% | Test  85.0% 🌟\n"
     ]
    },
    {
     "data": {
      "application/vnd.jupyter.widget-view+json": {
       "model_id": "9a13d5cb9f0c43abb5c30b09064d46a6",
       "version_major": 2,
       "version_minor": 0
      },
      "text/plain": [
       "Epoch 13/15 [Train]:   0%|          | 0/391 [00:00<?, ?it/s]"
      ]
     },
     "metadata": {},
     "output_type": "display_data"
    },
    {
     "name": "stdout",
     "output_type": "stream",
     "text": [
      "Epoch  13/15: Train  80.9% | Test  85.0% \n"
     ]
    },
    {
     "data": {
      "application/vnd.jupyter.widget-view+json": {
       "model_id": "3bc7ff4fbb19424da97cb102e895181f",
       "version_major": 2,
       "version_minor": 0
      },
      "text/plain": [
       "Epoch 14/15 [Train]:   0%|          | 0/391 [00:00<?, ?it/s]"
      ]
     },
     "metadata": {},
     "output_type": "display_data"
    },
    {
     "name": "stdout",
     "output_type": "stream",
     "text": [
      "🌟 New best model saved to checkpoints/best_mobilevit_xs_epoch_14.pth with accuracy 85.17%\n",
      "Epoch  14/15: Train  81.2% | Test  85.2% 🌟\n"
     ]
    },
    {
     "data": {
      "application/vnd.jupyter.widget-view+json": {
       "model_id": "7b5ae61e9f254204a18af7d149f622b0",
       "version_major": 2,
       "version_minor": 0
      },
      "text/plain": [
       "Epoch 15/15 [Train]:   0%|          | 0/391 [00:00<?, ?it/s]"
      ]
     },
     "metadata": {},
     "output_type": "display_data"
    },
    {
     "name": "stdout",
     "output_type": "stream",
     "text": [
      "Epoch  15/15: Train  81.0% | Test  84.9% \n",
      "✅ Finetuning complete! Best accuracy: 85.17%\n",
      "==================== FINISHED RUN: Input_Resolution_32x32 | Best Acc: 85.17% ====================\n",
      "\n",
      "==================== STARTING RUN: Input_Resolution_64x64 ====================\n",
      "✅ Created mobilevit_xs (pretrained=True) with 1,936,698 parameters\n",
      "🚀 Finetuning mobilevit_xs for 15 epochs on CIFAR-10...\n",
      "🔓 Unfreezing backbone at epoch 1\n",
      "📊 Model setup:\n",
      "   Total params: 1,936,698\n",
      "   Trainable params: 1,936,698 (100.0%)\n"
     ]
    },
    {
     "data": {
      "application/vnd.jupyter.widget-view+json": {
       "model_id": "f1fb58bbd3474cb08130a939fe8d2bfb",
       "version_major": 2,
       "version_minor": 0
      },
      "text/plain": [
       "Epoch 1/15 [Train]:   0%|          | 0/391 [00:00<?, ?it/s]"
      ]
     },
     "metadata": {},
     "output_type": "display_data"
    },
    {
     "name": "stdout",
     "output_type": "stream",
     "text": [
      "🌟 New best model saved to checkpoints/best_mobilevit_xs_epoch_1.pth with accuracy 85.57%\n",
      "Epoch   1/15: Train  67.6% | Test  85.6% 🌟\n"
     ]
    },
    {
     "data": {
      "application/vnd.jupyter.widget-view+json": {
       "model_id": "d00ecf3cffb243f0a7b228dfcbd6effc",
       "version_major": 2,
       "version_minor": 0
      },
      "text/plain": [
       "Epoch 2/15 [Train]:   0%|          | 0/391 [00:00<?, ?it/s]"
      ]
     },
     "metadata": {},
     "output_type": "display_data"
    },
    {
     "name": "stdout",
     "output_type": "stream",
     "text": [
      "🌟 New best model saved to checkpoints/best_mobilevit_xs_epoch_2.pth with accuracy 88.42%\n",
      "Epoch   2/15: Train  83.2% | Test  88.4% 🌟\n"
     ]
    },
    {
     "data": {
      "application/vnd.jupyter.widget-view+json": {
       "model_id": "c9e892caf9354977ba11c5277386c509",
       "version_major": 2,
       "version_minor": 0
      },
      "text/plain": [
       "Epoch 3/15 [Train]:   0%|          | 0/391 [00:00<?, ?it/s]"
      ]
     },
     "metadata": {},
     "output_type": "display_data"
    },
    {
     "name": "stdout",
     "output_type": "stream",
     "text": [
      "🌟 New best model saved to checkpoints/best_mobilevit_xs_epoch_3.pth with accuracy 89.88%\n",
      "Epoch   3/15: Train  86.2% | Test  89.9% 🌟\n"
     ]
    },
    {
     "data": {
      "application/vnd.jupyter.widget-view+json": {
       "model_id": "ff3323424b09411ca6a767fa2a01b877",
       "version_major": 2,
       "version_minor": 0
      },
      "text/plain": [
       "Epoch 4/15 [Train]:   0%|          | 0/391 [00:00<?, ?it/s]"
      ]
     },
     "metadata": {},
     "output_type": "display_data"
    },
    {
     "name": "stdout",
     "output_type": "stream",
     "text": [
      "🌟 New best model saved to checkpoints/best_mobilevit_xs_epoch_4.pth with accuracy 90.61%\n",
      "Epoch   4/15: Train  87.6% | Test  90.6% 🌟\n"
     ]
    },
    {
     "data": {
      "application/vnd.jupyter.widget-view+json": {
       "model_id": "3d1dc7f04a784b25afccfcea798c4b8e",
       "version_major": 2,
       "version_minor": 0
      },
      "text/plain": [
       "Epoch 5/15 [Train]:   0%|          | 0/391 [00:00<?, ?it/s]"
      ]
     },
     "metadata": {},
     "output_type": "display_data"
    },
    {
     "name": "stdout",
     "output_type": "stream",
     "text": [
      "🌟 New best model saved to checkpoints/best_mobilevit_xs_epoch_5.pth with accuracy 91.24%\n",
      "Epoch   5/15: Train  89.1% | Test  91.2% 🌟\n"
     ]
    },
    {
     "data": {
      "application/vnd.jupyter.widget-view+json": {
       "model_id": "43f5b97a016848a19c9d2f657396c8a7",
       "version_major": 2,
       "version_minor": 0
      },
      "text/plain": [
       "Epoch 6/15 [Train]:   0%|          | 0/391 [00:00<?, ?it/s]"
      ]
     },
     "metadata": {},
     "output_type": "display_data"
    },
    {
     "name": "stdout",
     "output_type": "stream",
     "text": [
      "🌟 New best model saved to checkpoints/best_mobilevit_xs_epoch_6.pth with accuracy 91.32%\n",
      "Epoch   6/15: Train  89.8% | Test  91.3% 🌟\n"
     ]
    },
    {
     "data": {
      "application/vnd.jupyter.widget-view+json": {
       "model_id": "b4f7d73151634810bdbcdc8ce45adb1b",
       "version_major": 2,
       "version_minor": 0
      },
      "text/plain": [
       "Epoch 7/15 [Train]:   0%|          | 0/391 [00:00<?, ?it/s]"
      ]
     },
     "metadata": {},
     "output_type": "display_data"
    },
    {
     "name": "stdout",
     "output_type": "stream",
     "text": [
      "🌟 New best model saved to checkpoints/best_mobilevit_xs_epoch_7.pth with accuracy 91.87%\n",
      "Epoch   7/15: Train  90.3% | Test  91.9% 🌟\n"
     ]
    },
    {
     "data": {
      "application/vnd.jupyter.widget-view+json": {
       "model_id": "34d62602784b41819d096f5812f63839",
       "version_major": 2,
       "version_minor": 0
      },
      "text/plain": [
       "Epoch 8/15 [Train]:   0%|          | 0/391 [00:00<?, ?it/s]"
      ]
     },
     "metadata": {},
     "output_type": "display_data"
    },
    {
     "name": "stdout",
     "output_type": "stream",
     "text": [
      "Epoch   8/15: Train  91.0% | Test  91.7% \n"
     ]
    },
    {
     "data": {
      "application/vnd.jupyter.widget-view+json": {
       "model_id": "3ce540062d7d455ca52617bef9d67825",
       "version_major": 2,
       "version_minor": 0
      },
      "text/plain": [
       "Epoch 9/15 [Train]:   0%|          | 0/391 [00:00<?, ?it/s]"
      ]
     },
     "metadata": {},
     "output_type": "display_data"
    },
    {
     "name": "stdout",
     "output_type": "stream",
     "text": [
      "🌟 New best model saved to checkpoints/best_mobilevit_xs_epoch_9.pth with accuracy 91.90%\n",
      "Epoch   9/15: Train  91.6% | Test  91.9% 🌟\n"
     ]
    },
    {
     "data": {
      "application/vnd.jupyter.widget-view+json": {
       "model_id": "06f3ba67de024252bc45e31007425fc3",
       "version_major": 2,
       "version_minor": 0
      },
      "text/plain": [
       "Epoch 10/15 [Train]:   0%|          | 0/391 [00:00<?, ?it/s]"
      ]
     },
     "metadata": {},
     "output_type": "display_data"
    }
   ],
   "source": [
    "#@title Cell 4: Chạy Thử nghiệm 3\n",
    "# --- Tải dữ liệu với độ phân giải 64x64 ---\n",
    "print(\"==> Preparing upscaled data (64x64)...\")\n",
    "train_loader_64, test_loader_64 = get_cifar10_loaders(image_size=64)\n",
    "print(\"✅ Upscaled data ready.\")\n",
    "\n",
    "# --- Chạy với độ phân giải 32x32 (Baseline) ---\n",
    "# Có thể dùng lại kết quả `res_e2e` ở trên nếu đã chạy\n",
    "res_32 = run_full_training(\n",
    "    model_variant='mobilevit_xs',\n",
    "    train_loader=train_loader_32,\n",
    "    test_loader=test_loader_32,\n",
    "    epochs=EPOCHS,\n",
    "    freeze_epochs=0,\n",
    "    pretrained=True,\n",
    "    run_name=\"Input_Resolution_32x32\"\n",
    ")\n",
    "results.append(res_32)\n",
    "\n",
    "# --- Chạy với độ phân giải 64x64 ---\n",
    "res_64 = run_full_training(\n",
    "    model_variant='mobilevit_xs',\n",
    "    train_loader=train_loader_64,\n",
    "    test_loader=test_loader_64,\n",
    "    epochs=EPOCHS,\n",
    "    freeze_epochs=0,\n",
    "    pretrained=True,\n",
    "    run_name=\"Input_Resolution_64x64\"\n",
    ")\n",
    "results.append(res_64)"
   ]
  }
 ],
 "metadata": {
  "kernelspec": {
   "display_name": "Python 3 (ipykernel)",
   "language": "python",
   "name": "python3"
  },
  "language_info": {
   "codemirror_mode": {
    "name": "ipython",
    "version": 3
   },
   "file_extension": ".py",
   "mimetype": "text/x-python",
   "name": "python",
   "nbconvert_exporter": "python",
   "pygments_lexer": "ipython3",
   "version": "3.10.12"
  }
 },
 "nbformat": 4,
 "nbformat_minor": 5
}

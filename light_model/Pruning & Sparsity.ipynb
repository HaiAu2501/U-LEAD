{
 "cells": [
  {
   "cell_type": "markdown",
   "id": "cd254a09",
   "metadata": {},
   "source": [
    "# Pruning & Sparsity on CIFAR - 10\n"
   ]
  },
  {
   "cell_type": "markdown",
   "id": "4502452f",
   "metadata": {},
   "source": [
    "## 1. Structured Pruning\n"
   ]
  },
  {
   "cell_type": "markdown",
   "id": "70a6745d",
   "metadata": {},
   "source": [
    "### 1.1. L1-Norm Filter Pruning\n"
   ]
  },
  {
   "cell_type": "markdown",
   "id": "691d9cff",
   "metadata": {},
   "source": [
    "### 1.2. Channel Pruning"
   ]
  },
  {
   "cell_type": "markdown",
   "id": "f358c5e9",
   "metadata": {},
   "source": [
    "### 1.3. Block/Layer Pruning"
   ]
  },
  {
   "cell_type": "markdown",
   "id": "ccc203b9",
   "metadata": {},
   "source": [
    "### 1.4. Structured Lottery Ticket Hypothesis"
   ]
  },
  {
   "cell_type": "markdown",
   "id": "120ad482",
   "metadata": {},
   "source": [
    "### 1.5. Regularization-Based Structured Pruning "
   ]
  },
  {
   "cell_type": "markdown",
   "id": "b316c0ee",
   "metadata": {},
   "source": [
    "## 2. Low-Rank Factorization"
   ]
  },
  {
   "cell_type": "markdown",
   "id": "5844a1c0",
   "metadata": {},
   "source": [
    "### 2.1. SVD (Singular Value Decomposition)"
   ]
  },
  {
   "cell_type": "markdown",
   "id": "65cca4eb",
   "metadata": {},
   "source": [
    "### 2.2. CP Decomposition (CANDECOMP, PARAFAC)"
   ]
  },
  {
   "cell_type": "markdown",
   "id": "973694ae",
   "metadata": {},
   "source": [
    "### 2.3. Tucker Decomposition"
   ]
  },
  {
   "cell_type": "markdown",
   "id": "30876c35",
   "metadata": {},
   "source": [
    "### 2.4. Tensor Train Decomposition (TT)"
   ]
  },
  {
   "cell_type": "markdown",
   "id": "d7aa130e",
   "metadata": {},
   "source": [
    "### 2.5. CONVAE (Convolutional AutoEncoder)"
   ]
  },
  {
   "cell_type": "markdown",
   "id": "e371808e",
   "metadata": {},
   "source": [
    "## Đánh giá"
   ]
  }
 ],
 "metadata": {
  "language_info": {
   "name": "python"
  }
 },
 "nbformat": 4,
 "nbformat_minor": 5
}

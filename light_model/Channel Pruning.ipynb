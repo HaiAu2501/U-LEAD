{
 "cells": [
  {
   "cell_type": "markdown",
   "id": "f74bb501",
   "metadata": {},
   "source": [
    "# Channel Pruning on CIFAR-10"
   ]
  },
  {
   "cell_type": "markdown",
   "id": "53511397",
   "metadata": {},
   "source": [
    "## 1. Phương pháp"
   ]
  },
  {
   "cell_type": "markdown",
   "id": "c9bc0cda",
   "metadata": {},
   "source": [
    "### Phương pháp 1:L1-norm / L2-norm Filter Pruning"
   ]
  },
  {
   "cell_type": "markdown",
   "id": "a696f70e",
   "metadata": {},
   "source": [
    "### Phương pháp 2:BatchNorm Scaling Factor Pruning (Network Slimming)"
   ]
  },
  {
   "cell_type": "markdown",
   "id": "4367fc62",
   "metadata": {},
   "source": [
    "### Phương pháp 3:Activation-based Pruning"
   ]
  },
  {
   "cell_type": "markdown",
   "id": "cc618930",
   "metadata": {},
   "source": [
    "### Phương pháp 4:Taylor Expansion / Gradient-based Pruning"
   ]
  },
  {
   "cell_type": "markdown",
   "id": "701e99db",
   "metadata": {},
   "source": [
    "## 2. Đánh giá"
   ]
  }
 ],
 "metadata": {
  "language_info": {
   "name": "python"
  }
 },
 "nbformat": 4,
 "nbformat_minor": 5
}

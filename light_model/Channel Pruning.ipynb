{
 "cells": [
  {
   "cell_type": "markdown",
   "id": "cd254a09",
   "metadata": {},
   "source": [
    "# Pruning & Sparsity on CIFAR - 10\n"
   ]
  },
  {
   "cell_type": "markdown",
   "id": "4502452f",
   "metadata": {},
   "source": [
    "## 1. Phương pháp\n"
   ]
  },
  {
   "cell_type": "markdown",
   "id": "43dd27e1",
   "metadata": {},
   "source": [
    "### Phương pháp 1: L1-norm/L2-norm Filter Pruning"
   ]
  },
  {
   "cell_type": "markdown",
   "id": "3694b55f",
   "metadata": {},
   "source": [
    "### Phương pháp 2: BatchNorm Scaling Factor Pruning (Network Slimming)"
   ]
  },
  {
   "cell_type": "markdown",
   "id": "326e10b1",
   "metadata": {},
   "source": [
    "### Phương pháp 3: Activation-based Pruning"
   ]
  },
  {
   "cell_type": "markdown",
   "id": "165ba055",
   "metadata": {},
   "source": [
    "### Phương pháp 4: Taylor Expansion / Gradient-based Pruning"
   ]
  },
  {
   "cell_type": "markdown",
   "id": "e371808e",
   "metadata": {},
   "source": [
    "## 2.  Đánh giá"
   ]
  }
 ],
 "metadata": {
  "language_info": {
   "name": "python"
  }
 },
 "nbformat": 4,
 "nbformat_minor": 5
}

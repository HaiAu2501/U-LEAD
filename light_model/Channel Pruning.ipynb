{
 "cells": [
  {
   "cell_type": "markdown",
   "id": "f74bb501",
   "metadata": {},
   "source": [
    "# Channel Pruning on CIFAR-10"
   ]
  },
  {
   "cell_type": "markdown",
   "id": "53511397",
   "metadata": {},
   "source": [
    "## 1. Phương pháp"
   ]
  },
  {
   "cell_type": "markdown",
   "id": "c9bc0cda",
   "metadata": {},
   "source": [
    "### Phương pháp 1:L1-norm / L2-norm Filter Pruning"
   ]
  },
  {
   "cell_type": "markdown",
   "id": "bed9e1d2",
   "metadata": {},
   "source": [
    "**Ý tưởng:**\n",
    "Trong CNN, mỗi filter (kernel) sinh ra một feature map (output channel).\n",
    "Độ quan trọng của filter có thể được ước lượng thông qua magnitude (độ lớn) của các trọng số trong filter.\n",
    "\n",
    "Nếu norm nhỏ → filter ít đóng góp → có thể loại bỏ.\n",
    "\n",
    "Nếu norm lớn → filter quan trọng → giữ lại.\n",
    "**Đo độ quan trọng:**\n",
    "***Với filter $F \\in \\mathbb{R}^{C \\times k \\times k}$:***\n",
    "***L1-norm***\n",
    "$$\n",
    "\\|F\\|_{1} = \\sum_{c=1}^C \\sum_{i=1}^k \\sum_{j=1}^k \\left| F_{c,i,j} \\right|\n",
    "$$\n",
    "***L2-norm***\n",
    "$$\n",
    "\\|F\\|_{2} = \\sqrt{ \\sum_{c=1}^C \\sum_{i=1}^k \\sum_{j=1}^k \\left( F_{c,i,j} \\right)^2 }\n",
    "$$\n",
    "\n",
    "**Thuật toán pruning:**\n",
    "\n",
    "Tính L1 hoặc L2 norm cho tất cả các filters trong layer.\n",
    "\n",
    "Sắp xếp filters theo norm tăng dần.\n",
    "\n",
    "Loại bỏ một tỉ lệ $p%$ filters có norm thấp nhất.\n",
    "\n",
    "Fine-tune lại mô hình để khôi phục accuracy.\n"
   ]
  },
  {
   "cell_type": "markdown",
   "id": "a696f70e",
   "metadata": {},
   "source": [
    "### Phương pháp 2:BatchNorm Scaling Factor Pruning (Network Slimming)"
   ]
  },
  {
   "cell_type": "markdown",
   "id": "ee75a358",
   "metadata": {},
   "source": [
    "**Ý tưởng:**\n",
    "\n",
    "Trong CNN, mỗi kênh (channel) thường đi kèm một lớp Batch Normalization (BN).\n",
    "BN có tham số scale $\\gamma$ điều chỉnh độ quan trọng của channel.\n",
    "\n",
    "Nếu $\\gamma$ nhỏ → channel đóng góp ít → có thể loại bỏ.\n",
    "\n",
    "Nếu $\\gamma$ lớn → channel quan trọng → giữ lại.\n",
    "**Cơ chế chính:**\n",
    "Thêm regularization L1 trực tiếp lên các tham số $\\gamma$ trong quá trình huấn luyện:\n",
    "\n",
    "$$\n",
    "\\mathcal{L} = \\mathcal{L}_{\\text{task}} + \\lambda \\sum |\\gamma|\n",
    "$$\n",
    "\n",
    "\n",
    "Trong đó:\n",
    "\n",
    "$\\mathcal{L}_{\\text{task}}$: loss gốc (ví dụ cross-entropy).\n",
    "\n",
    "$\\lambda$: hệ số điều chỉnh độ sparsity.\n",
    "\n",
    "**Thuật toán pruning:**\n",
    "\n",
    "Huấn luyện mô hình với regularization L1 lên $\\gamma$.\n",
    "\n",
    "Sau khi huấn luyện, nhiều $\\gamma$ sẽ tiến gần về 0.\n",
    "\n",
    "Chọn ngưỡng $\\tau$, loại bỏ các channel có $|\\gamma| < \\tau$.\n",
    "\n",
    "Fine-tune lại mô hình để phục hồi accuracy."
   ]
  },
  {
   "cell_type": "markdown",
   "id": "4367fc62",
   "metadata": {},
   "source": [
    "### Phương pháp 3:Activation-based Pruning"
   ]
  },
  {
   "cell_type": "markdown",
   "id": "4ae5ed90",
   "metadata": {},
   "source": [
    "**Ý tưởng:**\n",
    "\n",
    "Trong CNN, mức độ quan trọng của một filter có thể được đánh giá dựa trên activation (đầu ra feature map) của filter đó.\n",
    "\n",
    "Nếu một filter thường xuyên tạo ra activation yếu hoặc gần như bằng 0 → nó ít đóng góp thông tin → có thể loại bỏ.\n",
    "\n",
    "Nếu activation mạnh, đa dạng → filter quan trọng → giữ lại.\n",
    "\n",
    "**Cách đo độ quan trọng:**\n",
    "\n",
    "Với feature map $A \\in \\mathbb{R}^{H \\times W}$ được sinh ra bởi filter $F$:\n",
    "\n",
    "***Average Activation Magnitude***\n",
    "$$\n",
    "I(F) = \\frac{1}{N \\cdot H \\cdot W} \\sum_{n=1}^N \\sum_{i=1}^H \\sum_{j=1}^W |A_{n,i,j}|\n",
    "$$\n",
    "\n",
    "***Variance of Activation***\n",
    "$$\n",
    "I(F) = \\mathrm{Var}(A)\n",
    "$$\n",
    "\n",
    "\n",
    "Trong đó $N$ là số lượng mẫu (mini-batch).\n",
    "\n",
    "**Thuật toán pruning:**\n",
    "\n",
    "Chạy dữ liệu qua mạng để thu thập activation cho từng filter.\n",
    "\n",
    "Tính chỉ số quan trọng $I(F)$ theo trung bình hoặc phương sai activation.\n",
    "\n",
    "Sắp xếp filters theo $I(F)$ tăng dần.\n",
    "\n",
    "Loại bỏ một tỉ lệ $p%$ filters có activation yếu nhất.\n",
    "\n",
    "Fine-tune mô hình để khôi phục accuracy."
   ]
  },
  {
   "cell_type": "markdown",
   "id": "cc618930",
   "metadata": {},
   "source": [
    "### Phương pháp 4:Taylor Expansion / Gradient-based Pruning"
   ]
  },
  {
   "cell_type": "markdown",
   "id": "0115202d",
   "metadata": {},
   "source": [
    "**Ý tưởng:**\n",
    "Mức độ quan trọng của một filter có thể được ước lượng bằng cách xem xét tác động của việc loại bỏ filter đó đến loss.\n",
    "Sử dụng khai triển Taylor bậc 1, xấp xỉ được sự thay đổi loss khi một trọng số hoặc filter bị loại bỏ.\n",
    "\n",
    "**Công thức chính:**\n",
    "***Với một trọng số $w$, thay đổi loss khi áp dụng $\\Delta w$ được xấp xỉ bởi:***\n",
    "$$\n",
    "\\Delta \\mathcal{L} \\approx \\frac{\\partial \\mathcal{L}}{\\partial w} \\cdot \\Delta w\n",
    "$$\n",
    "***Khi prune bằng cách đặt $w = 0$ thì $\\Delta w = -w$, do đó:***\n",
    "$$\n",
    "\\Delta \\mathcal{L} \\approx - \\frac{\\partial \\mathcal{L}}{\\partial w} \\cdot w\n",
    "$$\n",
    "***Độ quan trọng của một trọng số $w$:***\n",
    "$$\n",
    "I(w) = \\left| \\frac{\\partial \\mathcal{L}}{\\partial w} \\cdot w \\right|\n",
    "$$\n",
    "***Với một filter $F \\in \\mathbb{R}^{C \\times k \\times k}$, độ quan trọng được tính bằng:***\n",
    "$$\n",
    "I(F) = \\mathbb{E}_{(x,y)\\sim \\mathcal{D}} \\left[ \\left| \\sum_{c=1}^C \\sum_{i=1}^k \\sum_{j=1}^k \\frac{\\partial \\mathcal{L}}{\\partial F_{c,i,j}} \\cdot F_{c,i,j} \\right| \\right]\n",
    "$$\n",
    "\n",
    "**Thuật toán pruning:**\n",
    "\n",
    "Chạy một số batch dữ liệu qua mạng và tính gradient $\\frac{\\partial \\mathcal{L}}{\\partial F}$ cho mỗi filter $F$.\n",
    "\n",
    "Tính chỉ số quan trọng $I(F)$ cho từng filter.\n",
    "\n",
    "Sắp xếp các filter theo $I(F)$ tăng dần.\n",
    "\n",
    "Loại bỏ một tỉ lệ $p%$ filter có $I(F)$ nhỏ nhất.\n",
    "\n",
    "Fine-tune mô hình đã prune để khôi phục accuracy.\n"
   ]
  },
  {
   "cell_type": "markdown",
   "id": "701e99db",
   "metadata": {},
   "source": [
    "## 2. Đánh giá"
   ]
  }
 ],
 "metadata": {
  "language_info": {
   "name": "python"
  }
 },
 "nbformat": 4,
 "nbformat_minor": 5
}

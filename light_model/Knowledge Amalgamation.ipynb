{
 "cells": [
  {
   "cell_type": "markdown",
   "id": "35d5f077",
   "metadata": {
    "vscode": {
     "languageId": "plaintext"
    }
   },
   "source": [
    "# Knowledge Amalgamation on CIFAR-10\n",
    "\n",
    "Mục tiêu: Cài đặt nhiều phương pháp Knowledge Amalgamation (KA) khác nhau cho bài toán phân loại CIFAR-10.\n",
    "\n",
    "Sự khác nhau của KD và KA:\n",
    "- KD (Knowledge Distillation): Chuyển kiến thức từ một model lớn (teacher) sang một model nhỏ hơn (student) cho cùng một nhiệm vụ (one-to-one).\n",
    "- KA (Knowledge Amalgamation): Kết hợp kiến thức.\n",
    "  - Từ nhiều model teacher (có thể khác nhiệm vụ) vào một model student duy nhất (many-to-one).\n",
    "  - Từ một model teacher sang nhiều model student khác nhau (one-to-many).\n",
    "  - Từ nhiều model teacher và các model phụ trợ sang một model student (many-to-many).\n",
    "\n",
    "Yêu cầu chính:\n",
    "- Dataset: CIFAR-10 (train/test chuẩn của torchvision)\n",
    "- Model teacher: pretrained trên CIFAR-10; model student nhỏ hơn, chưa train.\n",
    "- Một biến chung `KA_EPOCHS` xác định số epoch train cho TẤT CẢ phương pháp KA.\n",
    "- Trước mỗi phương pháp có một cell markdown ghi tên phương pháp.\n",
    "- Mỗi phương pháp in ra: tổng thời gian train + accuracy trên train và test.\n",
    "\n",
    "Các phần dưới đây cung cấp phần setup dùng chung (dataloader, model, util, teacher), sau đó là từng phương pháp KA."
   ]
  }
 ],
 "metadata": {
  "language_info": {
   "name": "python"
  }
 },
 "nbformat": 4,
 "nbformat_minor": 5
}

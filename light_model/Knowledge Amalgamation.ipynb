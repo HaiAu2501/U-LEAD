{
 "cells": [
  {
   "cell_type": "markdown",
   "id": "35d5f077",
   "metadata": {
    "vscode": {
     "languageId": "plaintext"
    }
   },
   "source": [
    "# Knowledge Amalgamation on CIFAR-10\n",
    "\n",
    "Mục tiêu: Cài đặt nhiều phương pháp Knowledge Amalgamation (KA) khác nhau cho bài toán phân loại CIFAR-10.\n",
    "\n",
    "Sự khác nhau của KD và KA:\n",
    "- KD (Knowledge Distillation): Chuyển kiến thức từ một model lớn (teacher) sang một model nhỏ hơn (student) cho cùng một nhiệm vụ (one-to-one).\n",
    "- KA (Knowledge Amalgamation): Kết hợp kiến thức.\n",
    "  - Từ nhiều model teacher (có thể khác nhiệm vụ) vào một model student duy nhất (many-to-one).\n",
    "  - Từ một model teacher sang nhiều model student khác nhau (one-to-many).\n",
    "  - Từ nhiều model teacher và các model phụ trợ sang một model student (many-to-many).\n",
    "\n",
    "Yêu cầu chính:\n",
    "- Dataset: CIFAR-10 (train/test chuẩn của torchvision)\n",
    "- Model teacher: pretrained trên CIFAR-10; model student nhỏ hơn, chưa train.\n",
    "- Một biến chung `KA_EPOCHS` xác định số epoch train cho TẤT CẢ phương pháp KA.\n",
    "- Trước mỗi phương pháp có một cell markdown ghi tên phương pháp.\n",
    "- Mỗi phương pháp in ra: tổng thời gian train + accuracy trên train và test.\n",
    "\n",
    "Các phần dưới đây cung cấp phần setup dùng chung (dataloader, model, util, teacher), sau đó là từng phương pháp KA."
   ]
  },
  {
   "cell_type": "markdown",
   "id": "5a189a7d",
   "metadata": {},
   "source": [
    "# 1. One-to-Many"
   ]
  },
  {
   "cell_type": "markdown",
   "id": "bf0a9e8d",
   "metadata": {},
   "source": [
    "## Phương pháp 1.1: On-the-Fly Native Ensemble"
   ]
  },
  {
   "cell_type": "code",
   "execution_count": null,
   "id": "f516ce2d",
   "metadata": {
    "vscode": {
     "languageId": "plaintext"
    }
   },
   "outputs": [],
   "source": []
  },
  {
   "cell_type": "markdown",
   "id": "5a2898ca",
   "metadata": {},
   "source": [
    "## Phương pháp 1.2: Self-Distillation"
   ]
  },
  {
   "cell_type": "code",
   "execution_count": null,
   "id": "a362f841",
   "metadata": {
    "vscode": {
     "languageId": "plaintext"
    }
   },
   "outputs": [],
   "source": []
  },
  {
   "cell_type": "markdown",
   "id": "e9167ac3",
   "metadata": {},
   "source": [
    "## Phương pháp 1.3: Snapshot Distillation"
   ]
  },
  {
   "cell_type": "code",
   "execution_count": null,
   "id": "fe96b905",
   "metadata": {
    "vscode": {
     "languageId": "plaintext"
    }
   },
   "outputs": [],
   "source": []
  },
  {
   "cell_type": "markdown",
   "id": "1c57e4d7",
   "metadata": {},
   "source": [
    "# 2. Many-to-One"
   ]
  },
  {
   "cell_type": "markdown",
   "id": "321ff3f9",
   "metadata": {},
   "source": [
    "## Phương pháp 2.1: Confidence-Aware Multi-Teacher"
   ]
  },
  {
   "cell_type": "code",
   "execution_count": null,
   "id": "6505b6e9",
   "metadata": {
    "vscode": {
     "languageId": "plaintext"
    }
   },
   "outputs": [],
   "source": []
  },
  {
   "cell_type": "markdown",
   "id": "693b453f",
   "metadata": {},
   "source": [
    "## Phương pháp 2.2: Decoupled Multi-Teacher"
   ]
  },
  {
   "cell_type": "code",
   "execution_count": null,
   "id": "d433bfb1",
   "metadata": {
    "vscode": {
     "languageId": "plaintext"
    }
   },
   "outputs": [],
   "source": []
  },
  {
   "cell_type": "markdown",
   "id": "cae53528",
   "metadata": {},
   "source": [
    "## Phương pháp 2.3: Adaptive Ensemble"
   ]
  },
  {
   "cell_type": "code",
   "execution_count": null,
   "id": "2f57b03e",
   "metadata": {
    "vscode": {
     "languageId": "plaintext"
    }
   },
   "outputs": [],
   "source": []
  },
  {
   "cell_type": "markdown",
   "id": "cbef63eb",
   "metadata": {},
   "source": [
    "# 3. Many-to-Many"
   ]
  },
  {
   "cell_type": "markdown",
   "id": "237e62c2",
   "metadata": {},
   "source": [
    "## Phương pháp 3.1: Deep Mutual Learning"
   ]
  },
  {
   "cell_type": "code",
   "execution_count": null,
   "id": "53d3afe6",
   "metadata": {
    "vscode": {
     "languageId": "plaintext"
    }
   },
   "outputs": [],
   "source": []
  },
  {
   "cell_type": "markdown",
   "id": "dd2cf74f",
   "metadata": {},
   "source": [
    "## Phương pháp 3.2: Peer Collaborative Learning"
   ]
  },
  {
   "cell_type": "code",
   "execution_count": null,
   "id": "b8ee99a6",
   "metadata": {
    "vscode": {
     "languageId": "plaintext"
    }
   },
   "outputs": [],
   "source": []
  },
  {
   "cell_type": "markdown",
   "id": "723f369c",
   "metadata": {},
   "source": [
    "## Phương pháp 3.3: Batch Knowledge Ensembling"
   ]
  },
  {
   "cell_type": "code",
   "execution_count": null,
   "id": "5e151cbb",
   "metadata": {
    "vscode": {
     "languageId": "plaintext"
    }
   },
   "outputs": [],
   "source": []
  },
  {
   "cell_type": "markdown",
   "id": "7a71d415",
   "metadata": {},
   "source": [
    "# Đánh giá toàn diện"
   ]
  },
  {
   "cell_type": "markdown",
   "id": "ba413e04",
   "metadata": {},
   "source": []
  }
 ],
 "metadata": {
  "language_info": {
   "name": "python"
  }
 },
 "nbformat": 4,
 "nbformat_minor": 5
}
